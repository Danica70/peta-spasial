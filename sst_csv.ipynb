{
  "cells": [
    {
      "cell_type": "code",
      "source": [
        "# 1. Mount Google Drive\n",
        "from google.colab import drive\n",
        "drive.mount('/content/drive')\n",
        "\n",
        "# 2. Import library\n",
        "import xarray as xr\n",
        "import pandas as pd\n",
        "\n",
        "# 3. Buka file NetCDF\n",
        "file_path = '/content/drive/MyDrive/Colab Notebooks/data_skripsi/SST/SST_Bulanan.nc'  # <- Ganti jika file SST Anda berbeda\n",
        "ds = xr.open_dataset(file_path)\n",
        "\n",
        "# 4. Cek isi dataset (untuk melihat struktur: variabel, dimensi, koordinat)\n",
        "print(ds)\n",
        "\n",
        "# 5. Koordinat target dari hasil konversi\n",
        "target_lon = 110.418778\n",
        "target_lat = -6.951944\n",
        "target_depth = 0  # kedalaman laut permukaan\n",
        "\n",
        "# 6. Ekstraksi variabel SST di titik tersebut, pada kedalaman 0\n",
        "# Gantilah 'longitude', 'latitude', dan 'depth' sesuai nama sebenarnya di ds.coords\n",
        "sst_data = ds['to'].sel(\n",
        "    longitude=target_lon,\n",
        "    latitude=target_lat,\n",
        "    depth=target_depth,\n",
        "    method='nearest'\n",
        ")\n",
        "\n",
        "# 7. Konversi ke DataFrame dan simpan ke CSV\n",
        "df = sst_data.to_dataframe().reset_index()\n",
        "csv_path = '/content/drive/MyDrive/Colab Notebooks/data_skripsi/SST/SST_Bulanan.csv'\n",
        "df.to_csv(csv_path, index=False)\n",
        "\n",
        "print(\"Data SST pada kedalaman 0 m berhasil diekstrak ke:\", csv_path)\n"
      ],
      "metadata": {
        "colab": {
          "base_uri": "https://localhost:8080/"
        },
        "id": "-LkbZ9KUPdNz",
        "outputId": "344af3c5-3135-4249-cdef-d6463254f7a5"
      },
      "execution_count": null,
      "outputs": [
        {
          "output_type": "stream",
          "name": "stdout",
          "text": [
            "Drive already mounted at /content/drive; to attempt to forcibly remount, call drive.mount(\"/content/drive\", force_remount=True).\n",
            "<xarray.Dataset> Size: 9MB\n",
            "Dimensions:    (time: 12, bnds: 2, longitude: 23, latitude: 17, depth: 50)\n",
            "Coordinates:\n",
            "  * time       (time) datetime64[ns] 96B 2016-01-15T12:00:00 ... 2016-12-15T1...\n",
            "  * longitude  (longitude) float64 184B 109.1 109.2 109.4 ... 111.6 111.8 111.9\n",
            "  * latitude   (latitude) float64 136B -7.125 -7.0 -6.875 ... -5.25 -5.125\n",
            "  * depth      (depth) float64 400B 0.0 5.0 10.0 15.0 ... 4.5e+03 5e+03 5.5e+03\n",
            "Dimensions without coordinates: bnds\n",
            "Data variables:\n",
            "    time_bnds  (time, bnds) datetime64[ns] 192B ...\n",
            "    so         (time, depth, latitude, longitude) float64 2MB ...\n",
            "    to         (time, depth, latitude, longitude) float64 2MB ...\n",
            "    ugo        (time, depth, latitude, longitude) float64 2MB ...\n",
            "    vgo        (time, depth, latitude, longitude) float64 2MB ...\n",
            "    zo         (time, depth, latitude, longitude) float64 2MB ...\n",
            "    mlotst     (time, latitude, longitude) float64 38kB ...\n",
            "Attributes:\n",
            "    CDI:          Climate Data Interface version 1.9.1 (http://mpimet.mpg.de/...\n",
            "    history:      Tue Jun 24 21:55:03 2025: cdo -mergetime SST_10_timmin.nc S...\n",
            "    institution:  CLS\n",
            "    Conventions:  CF-1.0\n",
            "    description:  ARMOR3D REP CMEMS December 2020 Release\n",
            "    title:        ARMOR3D REP - TSHUVMld Global Ocean Observation-based Produ...\n",
            "    domain_name:  GLO\n",
            "    CDO:          Climate Data Operators version 1.9.1 (http://mpimet.mpg.de/...\n",
            "Data SST pada kedalaman 0 m berhasil diekstrak ke: /content/drive/MyDrive/Colab Notebooks/data_skripsi/SST/SST_Bulanan.csv\n"
          ]
        }
      ]
    }
  ],
  "metadata": {
    "colab": {
      "provenance": []
    },
    "kernelspec": {
      "display_name": "Python 3",
      "name": "python3"
    },
    "language_info": {
      "name": "python"
    }
  },
  "nbformat": 4,
  "nbformat_minor": 0
}