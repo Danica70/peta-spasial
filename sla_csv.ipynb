{
  "nbformat": 4,
  "nbformat_minor": 0,
  "metadata": {
    "colab": {
      "provenance": []
    },
    "kernelspec": {
      "name": "python3",
      "display_name": "Python 3"
    },
    "language_info": {
      "name": "python"
    }
  },
  "cells": [
    {
      "cell_type": "code",
      "execution_count": null,
      "metadata": {
        "colab": {
          "base_uri": "https://localhost:8080/"
        },
        "id": "RsvJdOcGpnUi",
        "outputId": "3c210cb7-376c-4545-ed0b-50210f64e99e"
      },
      "outputs": [
        {
          "output_type": "stream",
          "name": "stdout",
          "text": [
            "Drive already mounted at /content/drive; to attempt to forcibly remount, call drive.mount(\"/content/drive\", force_remount=True).\n",
            "<xarray.Dataset> Size: 42kB\n",
            "Dimensions:         (time: 12, bnds: 2, longitude: 24, latitude: 18)\n",
            "Coordinates:\n",
            "  * time            (time) datetime64[ns] 96B 2016-01-15 ... 2016-12-15\n",
            "  * longitude       (longitude) float32 96B 109.1 109.2 109.3 ... 111.8 111.9\n",
            "  * latitude        (latitude) float32 72B -7.188 -7.062 ... -5.188 -5.062\n",
            "Dimensions without coordinates: bnds\n",
            "Data variables:\n",
            "    time_bnds       (time, bnds) datetime64[ns] 192B ...\n",
            "    longitude_bnds  (longitude, bnds) float32 192B ...\n",
            "    latitude_bnds   (latitude, bnds) float32 144B ...\n",
            "    crs             int32 4B ...\n",
            "    sla             (time, latitude, longitude) float64 41kB ...\n",
            "Attributes: (12/43)\n",
            "    CDI:                             Climate Data Interface version 1.9.1 (ht...\n",
            "    history:                         Tue Jun 24 21:43:19 2025: cdo -mergetime...\n",
            "    source:                          Altimetry measurements\n",
            "    institution:                     CLS, CNES\n",
            "    Conventions:                     CF-1.6\n",
            "    Metadata_Conventions:            Unidata Dataset Discovery v1.0\n",
            "    ...                              ...\n",
            "    geospatial_vertical_units:       m\n",
            "    time_coverage_duration:          P1M\n",
            "    time_coverage_resolution:        P1M\n",
            "    time_coverage_end:               2012-01-31T00:00:00Z\n",
            "    time_coverage_start:             2012-01-01T00:00:00Z\n",
            "    CDO:                             Climate Data Operators version 1.9.1 (ht...\n",
            "Data SLA berhasil diekstrak dan disimpan di: /content/drive/MyDrive/Colab Notebooks/data_skripsi/SLA/SLA_Bulanan.csv\n"
          ]
        }
      ],
      "source": [
        "# 1. Mount Google Drive\n",
        "from google.colab import drive\n",
        "drive.mount('/content/drive')\n",
        "\n",
        "# 2. Import library\n",
        "import xarray as xr\n",
        "import pandas as pd\n",
        "\n",
        "# 3. Buka file NetCDF\n",
        "file_path = '/content/drive/MyDrive/Colab Notebooks/data_skripsi/SLA/SLA_Bulanan.nc'\n",
        "ds = xr.open_dataset(file_path)\n",
        "\n",
        "# 4. Cek isi dataset (penting untuk pastikan nama koordinat)\n",
        "print(ds)\n",
        "\n",
        "# 5. Koordinat target dari hasil konversi\n",
        "target_lon = 110.418778\n",
        "target_lat = -6.951944\n",
        "\n",
        "# 6. Ekstraksi variabel SLA\n",
        "sla_data = ds['sla'].sel(\n",
        "    longitude=target_lon,\n",
        "    latitude=target_lat,\n",
        "    method='nearest'\n",
        ")\n",
        "\n",
        "# 7. Simpan ke CSV\n",
        "df = sla_data.to_dataframe().reset_index()\n",
        "csv_path = '/content/drive/MyDrive/Colab Notebooks/data_skripsi/SLA/SLA_Bulanan.csv'\n",
        "df.to_csv(csv_path, index=False)\n",
        "\n",
        "print(\"Data SLA berhasil diekstrak dan disimpan di:\", csv_path)\n"
      ]
    }
  ]
}